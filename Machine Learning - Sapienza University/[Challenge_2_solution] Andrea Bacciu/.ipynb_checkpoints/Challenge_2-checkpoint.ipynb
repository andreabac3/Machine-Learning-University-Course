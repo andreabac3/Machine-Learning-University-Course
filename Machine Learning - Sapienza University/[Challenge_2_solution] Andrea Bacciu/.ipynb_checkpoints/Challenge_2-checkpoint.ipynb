{
 "cells": [
  {
   "cell_type": "markdown",
   "metadata": {},
   "source": [
    "\n",
    "# Machine Learning 2019/2020 - Challenge 2 - 16 December 2019\n",
    "\n",
    "## Rules (read carefully):\n",
    "- This year the results of the two challenges will count 10% and 15% respectively of your final score.\n",
    "- If you work with a group of colleges (max 3 students), please remember your solution must be <b>\"your solution\"</b>, hence provide your individual answers/arguments/opinions/critics;\n",
    "- Students of the same group can share <b>ONLY</b> the code.\n",
    "- Mail your solution (a <b>jupyter notebook</b>) only to stefano.faralli@unitelmasapienza.it before the 1:59 PM of the 19 December 2019 (Rome Berlin time);\n",
    "- The subject of your email must be: \"[Challenge_2_solution] NAME - SURNAME - MATRICOLA.\"\n",
    "- Double check the subject of your email and the attachments;\n",
    "- In case you want to compress the attachment, <b>USE ONLY STANDARD ZIP compression</b>;\n",
    "- <b>Please sumbit ONLY the notebook with SAVED OUTPUTS!</b>\n",
    "- The physical attendance to the lab is not mandatory, you can work from a remote place by following the identical rules.\n",
    "- Your solution might be considered as the \"copy\" of others solutions, in that specific case the assigned score will be the result of the proposed solution divided by the number of \"too much similar\" solutions. If you share the code with the components of your \"group\" please comment the code and answer the questions by yourself.\n",
    "\n",
    "- Monday 16 December, I will share the necessary key to unzip the content of the provided challenge material (I will also send a message on the Google group).\n",
    "- To unzip the content of the zip you will use the above key\n",
    "- Then read carefully all the part of the jupyter notebook and fill all mandatory fields.\n",
    "- <b>Don't write \"personal\" emails</b> to Stefano Faralli, but please <b>use the google group</b> I will reply until 12 AM of 17 December 2019 <b>(strict deadline)</b>. \n",
    "- <b>solutions (and correspondig points) are evaluated mainly on your thoughts/comments/opinions</b> hence, please use the provided corresponding \"YOUR COMMENTS\" cell</b> \n",
    "\n"
   ]
  },
  {
   "cell_type": "markdown",
   "metadata": {},
   "source": [
    "## Identification (Mandatory)"
   ]
  },
  {
   "cell_type": "code",
   "execution_count": 1,
   "metadata": {},
   "outputs": [],
   "source": [
    "# Identification\n",
    "# assign the following string values\n",
    "yourNameSurname='andreabac3'\n",
    "yourMatricolaNumber='andreabac3'\n",
    "yourStudentEMAIL='andreabac3'\n",
    "yourColleguesNameSurnames=['andreabac3','andreabac3']"
   ]
  },
  {
   "cell_type": "markdown",
   "metadata": {},
   "source": [
    "# Lego Bricks Visual Classification\n",
    "<img src=\"45020_Prod_03.jpg\"/>\n",
    "\n",
    "## Description of the task:\n",
    "<br>\n",
    "devolop a classifier able to classify with a <b>weighted avg F1 score greater than 0.60</b> pictures of Lego bricks taken at different angles.\n",
    "Use Keras and scikit-learn to develop, train and evaluate a CNN with:<br>\n",
    "- Convolutional and Pooling operations<br>  \n",
    "- a dense sub network at the end <br>\n"
   ]
  },
  {
   "cell_type": "markdown",
   "metadata": {},
   "source": [
    "## Part 1 -  Dataset (max 6/30)"
   ]
  },
  {
   "cell_type": "markdown",
   "metadata": {},
   "source": [
    "# Import "
   ]
  },
  {
   "cell_type": "code",
   "execution_count": 2,
   "metadata": {},
   "outputs": [
    {
     "name": "stderr",
     "output_type": "stream",
     "text": [
      "Using TensorFlow backend.\n"
     ]
    }
   ],
   "source": [
    "# Standard lib\n",
    "from os import sep\n",
    "import math\n",
    "import warnings\n",
    "\n",
    "warnings.filterwarnings('ignore')\n",
    "\n",
    "# Third party import\n",
    "import matplotlib.pyplot as plt\n",
    "from keras.layers import Input, Conv2D, MaxPooling2D, UpSampling2D, ZeroPadding2D, Dense, Flatten, Dropout, \\\n",
    "    BatchNormalization\n",
    "from keras import backend as K, Sequential\n",
    "from tensorflow.python.keras.saving import model_from_json\n",
    "from keras.preprocessing.image import ImageDataGenerator\n",
    "from sklearn.metrics import classification_report, accuracy_score, f1_score\n",
    "from sklearn.ensemble import ExtraTreesClassifier\n",
    "import numpy as np\n"
   ]
  },
  {
   "cell_type": "markdown",
   "metadata": {},
   "source": [
    "# Constant"
   ]
  },
  {
   "cell_type": "code",
   "execution_count": 3,
   "metadata": {},
   "outputs": [],
   "source": [
    "# Constant\n",
    "STORED, STORED_model = False, False\n",
    "DATASET_PATH = \"dataset\"\n",
    "BATCH_SIZE = 32\n",
    "GRAYSCALE = 'grayscale'\n",
    "DIM_IMG = 64\n",
    "SEED = 0\n",
    "EPOCHS = 25\n",
    "history, model = None, None"
   ]
  },
  {
   "cell_type": "markdown",
   "metadata": {},
   "source": [
    "### Part 1-a  - Load the dataset (3/6 pts)\n",
    "The provided dataset is composed by pictures of Lego bricks, taken at different angles:<br>\n",
    "As an example the following picture:<br>\n",
    "<img src=\"dataset/train/2357 Brick corner 1x2x2/201706171206-0001.png\"/> \n",
    "corresponds to the png file in \"dataset/train/2357 Brick corner 1x2x2/201706171206-0001.png\"\n",
    "- \"201706171206-0001.png\" is the name of the file;\n",
    "- \"2357 Brick corner 1x2x2\" is the label of the Lego brick type;\n",
    "- \"train\" means that this is the portion of the dataset you must use for the training\n",
    "Inside the folder <b>dataset</b> you can find another subfolder <b>validatetest</b>.\n",
    "The content inside of <b>validatetest</b> must be used (after a proper split) for validation during training and for testing during the evaluation.\n",
    "\n",
    "\n",
    "Load the dataset and create: \n",
    "- X_train, y_train from the content in \"dataset/train/\"\n",
    "- X_validate,y_validate,X_test,y_test as a split (20% for validation and 80% for test) of the content in \"dataset/validatetest/\"\n",
    "\n",
    "<b>Tips:</b>\n",
    "- you can use CV2 or matplotlib to load pictures\n",
    "- check the file you are loading is ending with \".png\"\n"
   ]
  },
  {
   "cell_type": "code",
   "execution_count": 4,
   "metadata": {},
   "outputs": [
    {
     "name": "stdout",
     "output_type": "stream",
     "text": [
      "Found 6379 images belonging to 16 classes.\n",
      "Found 1275 images belonging to 16 classes.\n",
      "Found 5104 images belonging to 16 classes.\n"
     ]
    }
   ],
   "source": [
    "# CODE OF PART 1 - \"Load the Dataset\"\n",
    "# CODE OF PART 1 - \"Dataset  preprocessing\"\n",
    "\n",
    "train_datagen = ImageDataGenerator()\n",
    "test_datagen = ImageDataGenerator(validation_split=0.2)\n",
    "\n",
    "training_set = train_datagen.flow_from_directory(DATASET_PATH + sep + \"train\" + sep,\n",
    "                                                 target_size=(DIM_IMG, DIM_IMG),\n",
    "                                                 batch_size=BATCH_SIZE,\n",
    "                                                 color_mode=GRAYSCALE,\n",
    "                                                 seed=SEED\n",
    "                                                 )\n",
    "\n",
    "valid_set = test_datagen.flow_from_directory(DATASET_PATH + sep + \"validationandtest\" + sep,\n",
    "                                             target_size=(DIM_IMG, DIM_IMG),\n",
    "                                             batch_size=BATCH_SIZE,\n",
    "                                             color_mode=GRAYSCALE,\n",
    "                                             subset='validation',\n",
    "                                             seed=SEED\n",
    "                                             )\n",
    "\n",
    "test_set = test_datagen.flow_from_directory(DATASET_PATH + sep + \"validationandtest\" + sep,\n",
    "                                            target_size=(DIM_IMG, DIM_IMG),\n",
    "                                            batch_size=BATCH_SIZE,\n",
    "                                            color_mode=GRAYSCALE,\n",
    "                                            subset='training',\n",
    "                                            seed=SEED,\n",
    "                                            shuffle=False\n",
    "                                            )\n",
    "\n",
    "n_training_files = len(training_set.filenames)\n",
    "n_valid_files = len(valid_set.filenames)\n",
    "n_test_files = len(test_set.filenames)"
   ]
  },
  {
   "cell_type": "markdown",
   "metadata": {},
   "source": [
    "# your comments: "
   ]
  },
  {
   "cell_type": "code",
   "execution_count": 5,
   "metadata": {},
   "outputs": [],
   "source": [
    "# text of your comments here!"
   ]
  },
  {
   "cell_type": "markdown",
   "metadata": {},
   "source": [
    "# Comments:\n",
    "I used a function in the Keras library to load images, change the color channel switch from rgb to grayscale and set the dimension from 200x200 to 64x64. This function uses directory names to assign it a class of membership.\n",
    "Allows you to split the dataset into portions. As you can see from the line:\n",
    "test_datagen = ImageDataGenerator (validation_split = 0.2)\n",
    "I have created two subset in order to split the test set into test_set (80%) and valid_set (20%)"
   ]
  },
  {
   "cell_type": "markdown",
   "metadata": {},
   "source": [
    "### Part 1-b Dataset  preprocessing (3/6 pts max)\n",
    "Since you are using the dataset for a classification task using Keras API you will need to perform some dataset tranformations:<br>\n",
    "1) tranform all the images into grayscale having a final shape of (dim,dim,1)  dim<200;<br>\n",
    "<img src=\"info.png\">\n",
    "2) encode properly the target features for train, test and validation<br>\n",
    "\n",
    "<b>Tips:</b>\n",
    "- you can use CV2 and numpy to tranform and reshape the pictures\n"
   ]
  },
  {
   "cell_type": "code",
   "execution_count": null,
   "metadata": {},
   "outputs": [],
   "source": []
  },
  {
   "cell_type": "code",
   "execution_count": 6,
   "metadata": {},
   "outputs": [],
   "source": [
    "def n_f1(y_true, y_pred):\n",
    "    def recall(y_true, y_pred):\n",
    "        \"\"\"Recall metric.\n",
    "        Only computes a batch-wise average of recall.\n",
    "        Computes the recall, a metric for multi-label classification of\n",
    "        how many relevant items are selected.\n",
    "        \"\"\"\n",
    "        true_positives = K.sum(K.round(K.clip(y_true * y_pred, 0, 1)))\n",
    "        possible_positives = K.sum(K.round(K.clip(y_true, 0, 1)))\n",
    "        recall = true_positives / (possible_positives + K.epsilon())\n",
    "        return recall\n",
    "\n",
    "    def precision(y_true, y_pred):\n",
    "        \"\"\"Precision metric.\n",
    "        Only computes a batch-wise average of precision.\n",
    "        Computes the precision, a metric for multi-label classification of\n",
    "        how many selected items are relevant.\n",
    "        \"\"\"\n",
    "        true_positives = K.sum(K.round(K.clip(y_true * y_pred, 0, 1)))\n",
    "        predicted_positives = K.sum(K.round(K.clip(y_pred, 0, 1)))\n",
    "        precision = true_positives / (predicted_positives + K.epsilon())\n",
    "        return precision\n",
    "\n",
    "    precision = precision(y_true, y_pred)\n",
    "    recall = recall(y_true, y_pred)\n",
    "    return 2 * ((precision * recall) / (precision + recall + K.epsilon()))"
   ]
  },
  {
   "cell_type": "markdown",
   "metadata": {},
   "source": [
    "# your comments:"
   ]
  },
  {
   "cell_type": "code",
   "execution_count": null,
   "metadata": {},
   "outputs": [],
   "source": []
  },
  {
   "cell_type": "markdown",
   "metadata": {},
   "source": [
    "## Part 2 - Training (max 12 pts)\n",
    "## Part 2.a - create and train a  working CNN (10/10 pts)\n",
    "use Keras: with Convolutional and Pooling operations and a dense sub network at the end, use properly the preprocessed portions of the dataset (train and validation) and apply scaling.\n",
    "\n",
    "## Part 2.b -  save the learned model (2/10 pts)\n",
    "save the model to a file"
   ]
  },
  {
   "cell_type": "code",
   "execution_count": 7,
   "metadata": {},
   "outputs": [
    {
     "name": "stdout",
     "output_type": "stream",
     "text": [
      "WARNING:tensorflow:From /home/andrea/.local/lib/python3.6/site-packages/keras/backend/tensorflow_backend.py:422: The name tf.global_variables is deprecated. Please use tf.compat.v1.global_variables instead.\n",
      "\n",
      "Epoch 1/25\n",
      "200/199 [==============================] - 10s 51ms/step - loss: 2.4201 - accuracy: 0.6062 - n_f1: 0.6159 - val_loss: 1.1420 - val_accuracy: 0.8008 - val_n_f1: 0.7978\n",
      "Epoch 2/25\n",
      "200/199 [==============================] - 7s 33ms/step - loss: 0.4784 - accuracy: 0.8312 - n_f1: 0.8346 - val_loss: 0.4066 - val_accuracy: 0.8722 - val_n_f1: 0.8721\n",
      "Epoch 3/25\n",
      "200/199 [==============================] - 6s 32ms/step - loss: 0.2650 - accuracy: 0.8975 - n_f1: 0.8992 - val_loss: 0.1029 - val_accuracy: 0.9169 - val_n_f1: 0.9112\n",
      "Epoch 4/25\n",
      "200/199 [==============================] - 7s 33ms/step - loss: 0.1456 - accuracy: 0.9381 - n_f1: 0.9406 - val_loss: 0.1032 - val_accuracy: 0.9349 - val_n_f1: 0.9383\n",
      "Epoch 5/25\n",
      "200/199 [==============================] - 6s 32ms/step - loss: 0.1089 - accuracy: 0.9536 - n_f1: 0.9551 - val_loss: 0.1049 - val_accuracy: 0.9522 - val_n_f1: 0.9531\n",
      "Epoch 6/25\n",
      "200/199 [==============================] - 7s 34ms/step - loss: 0.1510 - accuracy: 0.9497 - n_f1: 0.9500 - val_loss: 0.1015 - val_accuracy: 0.9482 - val_n_f1: 0.9488\n",
      "Epoch 7/25\n",
      "200/199 [==============================] - 6s 32ms/step - loss: 0.1092 - accuracy: 0.9594 - n_f1: 0.9600 - val_loss: 0.0232 - val_accuracy: 0.9655 - val_n_f1: 0.9652\n",
      "Epoch 8/25\n",
      "200/199 [==============================] - 7s 33ms/step - loss: 0.1121 - accuracy: 0.9592 - n_f1: 0.9593 - val_loss: 0.0453 - val_accuracy: 0.9616 - val_n_f1: 0.9617\n",
      "Epoch 9/25\n",
      "200/199 [==============================] - 6s 32ms/step - loss: 0.1228 - accuracy: 0.9589 - n_f1: 0.9598 - val_loss: 0.0224 - val_accuracy: 0.9741 - val_n_f1: 0.9734\n",
      "Epoch 10/25\n",
      "200/199 [==============================] - 6s 32ms/step - loss: 0.0862 - accuracy: 0.9701 - n_f1: 0.9699 - val_loss: 4.6092e-06 - val_accuracy: 0.9624 - val_n_f1: 0.9629\n",
      "Epoch 11/25\n",
      "200/199 [==============================] - 6s 32ms/step - loss: 0.0905 - accuracy: 0.9718 - n_f1: 0.9720 - val_loss: 0.0202 - val_accuracy: 0.9851 - val_n_f1: 0.9852\n",
      "Epoch 12/25\n",
      "200/199 [==============================] - 6s 32ms/step - loss: 0.0880 - accuracy: 0.9787 - n_f1: 0.9789 - val_loss: 0.4935 - val_accuracy: 0.9631 - val_n_f1: 0.9620\n",
      "Epoch 13/25\n",
      "200/199 [==============================] - 6s 32ms/step - loss: 0.0576 - accuracy: 0.9821 - n_f1: 0.9820 - val_loss: 0.0131 - val_accuracy: 0.9851 - val_n_f1: 0.9852\n",
      "Epoch 14/25\n",
      "200/199 [==============================] - 6s 32ms/step - loss: 0.0705 - accuracy: 0.9820 - n_f1: 0.9822 - val_loss: 0.0319 - val_accuracy: 0.9796 - val_n_f1: 0.9795\n",
      "Epoch 15/25\n",
      "200/199 [==============================] - 7s 33ms/step - loss: 0.0363 - accuracy: 0.9889 - n_f1: 0.9888 - val_loss: 0.0013 - val_accuracy: 0.9953 - val_n_f1: 0.9953\n",
      "Epoch 16/25\n",
      "200/199 [==============================] - 6s 32ms/step - loss: 0.0269 - accuracy: 0.9911 - n_f1: 0.9910 - val_loss: 0.0012 - val_accuracy: 0.9875 - val_n_f1: 0.9875\n",
      "Epoch 17/25\n",
      "200/199 [==============================] - 6s 32ms/step - loss: 0.0157 - accuracy: 0.9950 - n_f1: 0.9948 - val_loss: 2.1798e-05 - val_accuracy: 0.9992 - val_n_f1: 0.9992\n",
      "Epoch 18/25\n",
      "200/199 [==============================] - 6s 32ms/step - loss: 0.0124 - accuracy: 0.9973 - n_f1: 0.9974 - val_loss: 3.5763e-07 - val_accuracy: 1.0000 - val_n_f1: 1.0000\n",
      "Epoch 19/25\n",
      "200/199 [==============================] - 6s 32ms/step - loss: 0.0087 - accuracy: 0.9976 - n_f1: 0.9976 - val_loss: 1.7963e-04 - val_accuracy: 0.9976 - val_n_f1: 0.9977\n",
      "Epoch 20/25\n",
      "200/199 [==============================] - 6s 32ms/step - loss: 0.0037 - accuracy: 0.9991 - n_f1: 0.9990 - val_loss: 4.8725e-04 - val_accuracy: 0.9984 - val_n_f1: 0.9984\n",
      "Epoch 21/25\n",
      "200/199 [==============================] - 6s 32ms/step - loss: 0.0028 - accuracy: 0.9994 - n_f1: 0.9994 - val_loss: 3.4493e-05 - val_accuracy: 0.9969 - val_n_f1: 0.9969\n",
      "Epoch 22/25\n",
      "200/199 [==============================] - 7s 33ms/step - loss: 0.0034 - accuracy: 0.9994 - n_f1: 0.9993 - val_loss: 3.7211e-04 - val_accuracy: 0.9984 - val_n_f1: 0.9984\n",
      "Epoch 23/25\n",
      "200/199 [==============================] - 7s 33ms/step - loss: 0.0064 - accuracy: 0.9983 - n_f1: 0.9982 - val_loss: 5.4696e-04 - val_accuracy: 1.0000 - val_n_f1: 1.0000\n",
      "Epoch 24/25\n",
      "200/199 [==============================] - 7s 33ms/step - loss: 0.0059 - accuracy: 0.9989 - n_f1: 0.9987 - val_loss: 9.2814e-05 - val_accuracy: 1.0000 - val_n_f1: 1.0000\n",
      "Epoch 25/25\n",
      "200/199 [==============================] - 7s 33ms/step - loss: 0.0055 - accuracy: 0.9981 - n_f1: 0.9980 - val_loss: 0.0055 - val_accuracy: 0.9992 - val_n_f1: 0.9992\n"
     ]
    }
   ],
   "source": [
    "if not STORED_model:\n",
    "    model = Sequential()\n",
    "\n",
    "    model.add(Conv2D(32, kernel_size=3, input_shape=(DIM_IMG, DIM_IMG, 1), activation='relu', padding=\"same\"))\n",
    "    model.add(BatchNormalization())\n",
    "    # model.add(Dropout(0.25))\n",
    "\n",
    "    model.add(Flatten())\n",
    "    model.add(Dense(units=128, activation='relu'))\n",
    "    model.add(Dense(units=16, activation='softmax'))\n",
    "\n",
    "    model.compile(loss='categorical_crossentropy', optimizer='adam', metrics=['accuracy', n_f1])\n",
    "    history = model.fit_generator(training_set,\n",
    "                                  steps_per_epoch=n_training_files / BATCH_SIZE,\n",
    "                                  epochs=EPOCHS,\n",
    "                                  validation_data=valid_set,\n",
    "                                  validation_steps=n_valid_files / BATCH_SIZE)"
   ]
  },
  {
   "cell_type": "code",
   "execution_count": 8,
   "metadata": {},
   "outputs": [
    {
     "name": "stdout",
     "output_type": "stream",
     "text": [
      "Saved model to disk\n"
     ]
    }
   ],
   "source": [
    "#code for Part 2 - Training\n",
    "if not STORED_model:\n",
    "    # serialize model to JSON\n",
    "    model_json = model.to_json()\n",
    "    with open(\"model.json\", \"w\") as json_file:\n",
    "        json_file.write(model_json)\n",
    "        # serialize weights to HDF5\n",
    "        model.save_weights(\"model_epochs_\" + str(EPOCHS) + \".h5\")\n",
    "        print(\"Saved model to disk\")\n",
    "else:\n",
    "    # load json and create model\n",
    "    with open(\"model.json\", \"r\") as json_file:\n",
    "        loaded_model_json = json_file.read()\n",
    "    model = model_from_json(loaded_model_json)\n",
    "    # load weights into new model\n",
    "    model.load_weights(\"model_epochs_\" + str(EPOCHS) + \".h5\")\n",
    "    print(\"Loaded model from disk\")\n",
    "    model.compile(loss='categorical_crossentropy', optimizer='adam', metrics=['accuracy', n_f1])"
   ]
  },
  {
   "cell_type": "code",
   "execution_count": 9,
   "metadata": {},
   "outputs": [
    {
     "name": "stdout",
     "output_type": "stream",
     "text": [
      "Model: \"sequential_1\"\n",
      "_________________________________________________________________\n",
      "Layer (type)                 Output Shape              Param #   \n",
      "=================================================================\n",
      "conv2d_1 (Conv2D)            (None, 64, 64, 32)        320       \n",
      "_________________________________________________________________\n",
      "batch_normalization_1 (Batch (None, 64, 64, 32)        128       \n",
      "_________________________________________________________________\n",
      "flatten_1 (Flatten)          (None, 131072)            0         \n",
      "_________________________________________________________________\n",
      "dense_1 (Dense)              (None, 128)               16777344  \n",
      "_________________________________________________________________\n",
      "dense_2 (Dense)              (None, 16)                2064      \n",
      "=================================================================\n",
      "Total params: 16,779,856\n",
      "Trainable params: 16,779,792\n",
      "Non-trainable params: 64\n",
      "_________________________________________________________________\n"
     ]
    }
   ],
   "source": [
    "model.summary()"
   ]
  },
  {
   "cell_type": "markdown",
   "metadata": {},
   "source": [
    "The function model.summary() show you the structure and the number of parameters of the Net."
   ]
  },
  {
   "cell_type": "markdown",
   "metadata": {},
   "source": [
    "# your comments:"
   ]
  },
  {
   "cell_type": "markdown",
   "metadata": {},
   "source": [
    "In this section I created the network structure and executed the model train phase.\n",
    "\n",
    "I used a batch size of 32 and 25 epochs.\n",
    "\n",
    "The network is composed of a single convolutional layer, which uses different 3x3 kernels and padding.\n",
    "I have not performed max pooling operations.\n",
    "\n",
    "I ran the batch normalization in order to rescale the outputs.\n",
    "\n",
    "I used the flatten() \"layer\" to flatten the features.\n",
    "\n",
    "And then two dense layers, the last with the activation function softmax and 16 units to predict output (16 classes).\n",
    "\n",
    "I used tensorflow-gpu on my GTX 1070 to optimize train times."
   ]
  },
  {
   "cell_type": "markdown",
   "metadata": {},
   "source": [
    "The second block of code saves the network structure in a .json file and saves the weights in a .h5 format\n",
    "\n",
    "If the variable STORED_model == True then the weights and structure of the saved network are restored. Otherwise, new files are generated."
   ]
  },
  {
   "cell_type": "markdown",
   "metadata": {},
   "source": [
    "# Part 3 - Evaluation (max 10 pts)\n",
    "## Part 3.a - Test (max 8/10 pts)\n",
    "- use the classifier built during Part 2, to classify the lego brick label of each picture of your Test dataset portion.\n",
    "- print the classifcation report\n",
    "\n",
    "## Part 3.b - minal f1 requirement (max 2/10 pts)\n",
    "- if from the report (in part 3.a) you printed, the weighted avg F1 is greater than 0.60 you get 1 point\n",
    "- if from the report (in part 3.a) you printed, the weighted avg F1 is greater than 0.70 you get 1 point\n",
    "- if from the report you printed in part 3.a the weighted avg F1 is less or equal to 0.60 you get -2 points"
   ]
  },
  {
   "cell_type": "code",
   "execution_count": 10,
   "metadata": {},
   "outputs": [
    {
     "name": "stdout",
     "output_type": "stream",
     "text": [
      "160/160 [==============================] - 5s 34ms/step\n",
      "F1 on test dataset: 0.9992157220840454\n",
      "Accuracy on test dataset: 0.9994122385978699\n"
     ]
    }
   ],
   "source": [
    "#code for  part 3\n",
    "test_loss, accuracy, f1 = model.evaluate(test_set, steps=math.ceil(n_test_files / BATCH_SIZE))\n",
    "print('F1 on test dataset:', f1)\n",
    "print('Accuracy on test dataset:', accuracy)"
   ]
  },
  {
   "cell_type": "code",
   "execution_count": 11,
   "metadata": {},
   "outputs": [],
   "source": [
    "predictions = model.predict_generator(test_set)"
   ]
  },
  {
   "cell_type": "code",
   "execution_count": 12,
   "metadata": {},
   "outputs": [
    {
     "name": "stdout",
     "output_type": "stream",
     "text": [
      "F1 weighted:  0.9994122228398009\n",
      "                                        precision    recall  f1-score   support\n",
      "\n",
      "11214 Bush 3M friction with Cross axle       1.00      1.00      1.00       320\n",
      "18651 Cross Axle 2M with Snap friction       1.00      1.00      1.00       320\n",
      "               2357 Brick corner 1x2x2       1.00      1.00      1.00       304\n",
      "                        3003 Brick 2x2       1.00      1.00      1.00       320\n",
      "                        3004 Brick 1x2       1.00      1.00      1.00       320\n",
      "                        3005 Brick 1x1       1.00      1.00      1.00       320\n",
      "                        3022 Plate 2x2       1.00      1.00      1.00       320\n",
      "                        3023 Plate 1x2       1.00      0.99      1.00       320\n",
      "                        3024 Plate 1x1       1.00      1.00      1.00       320\n",
      "              3040 Roof Tile 1x2x45deg       1.00      1.00      1.00       320\n",
      "                    3069 Flat Tile 1x2       1.00      1.00      1.00       320\n",
      "                       32123 half Bush       1.00      1.00      1.00       320\n",
      "                           3673 Peg 2M       1.00      1.00      1.00       320\n",
      "              3713 Bush for Cross Axle       1.00      1.00      1.00       320\n",
      "            3794 Plate 1X2 with 1 Knob       0.99      1.00      1.00       320\n",
      "                 6632 Technic Lever 3M       1.00      1.00      1.00       320\n",
      "\n",
      "                             micro avg       1.00      1.00      1.00      5104\n",
      "                             macro avg       1.00      1.00      1.00      5104\n",
      "                          weighted avg       1.00      1.00      1.00      5104\n",
      "\n"
     ]
    }
   ],
   "source": [
    "predictions = model.predict_generator(test_set)\n",
    "predicted_classes = np.argmax(predictions, axis=1)\n",
    "true_classes = test_set.classes\n",
    "class_labels = list(test_set.class_indices.keys())\n",
    "print(\"F1 weighted: \" , f1_score(true_classes, predicted_classes, average='weighted'))\n",
    "report = classification_report(true_classes, predicted_classes, target_names=class_labels)\n",
    "print(report)"
   ]
  },
  {
   "cell_type": "code",
   "execution_count": 13,
   "metadata": {},
   "outputs": [
    {
     "name": "stdout",
     "output_type": "stream",
     "text": [
      "dict_keys(['val_loss', 'val_accuracy', 'val_n_f1', 'loss', 'accuracy', 'n_f1'])\n"
     ]
    },
    {
     "data": {
      "image/png": "[encoded data removed]",
      "text/plain": [
       "<Figure size 432x288 with 1 Axes>"
      ]
     },
     "metadata": {
      "needs_background": "light"
     },
     "output_type": "display_data"
    },
    {
     "data": {
      "image/png": "[encoded data removed]",
      "text/plain": [
       "<Figure size 432x288 with 1 Axes>"
      ]
     },
     "metadata": {
      "needs_background": "light"
     },
     "output_type": "display_data"
    }
   ],
   "source": [
    "def print_plot(history):\n",
    "    if history == None:\n",
    "        return\n",
    "    print(history.history.keys())\n",
    "    # summarize history for accuracy\n",
    "    plt.plot(history.history['accuracy'])\n",
    "    plt.plot(history.history['val_accuracy'])\n",
    "    plt.title('model accuracy')\n",
    "    plt.ylabel('accuracy')\n",
    "    plt.xlabel('epoch')\n",
    "    plt.legend(['train', 'test'], loc='upper left')\n",
    "    plt.show()\n",
    "    # summarize history for loss\n",
    "    plt.plot(history.history['loss'])\n",
    "    plt.plot(history.history['val_loss'])\n",
    "    plt.title('model loss')\n",
    "    plt.ylabel('loss')\n",
    "    plt.xlabel('epoch')\n",
    "    plt.legend(['train', 'test'], loc='upper left')\n",
    "    plt.show()\n",
    "\n",
    "print_plot(history)"
   ]
  },
  {
   "cell_type": "markdown",
   "metadata": {},
   "source": [
    "# your comments:"
   ]
  },
  {
   "cell_type": "markdown",
   "metadata": {},
   "source": [
    "The result of the evaluation is 99.9% of the F1 Weighted score. \n",
    "F1 weighted:  0.9994122228398009\n",
    "\n",
    "As you can see from the plot, the loss is immediately very low.\n",
    "\n",
    "I used the sklearn library to show the classification report and as we can see the f1, precision and recall get exactly 1 as a result.\n"
   ]
  },
  {
   "cell_type": "markdown",
   "metadata": {},
   "source": [
    "# Part 4 - Feature importance (max 2/30 pts)\n",
    "## Part 4.a perform a pixel based feature importance analysis on the validation portion of the dataset (1 pts)\n",
    "## Part 4.b plot the corresponding heatmap of pixel importance (1 pts)\n",
    "\n"
   ]
  },
  {
   "cell_type": "code",
   "execution_count": 14,
   "metadata": {},
   "outputs": [],
   "source": [
    "def extract_from_batches(valid_set, batch_size, dataset_size):\n",
    "    features = []\n",
    "    labels = []\n",
    "    length = round(dataset_size/batch_size)\n",
    "    for i in range(length):\n",
    "        feature, label = zip(valid_set[i])\n",
    "\n",
    "        for j in range(len(feature[0])):\n",
    "            features.append(feature[0][j])\n",
    "            labels.append(label[0][j])\n",
    "    features = np.asarray(features, dtype=np.float32)\n",
    "    labels = np.asarray(labels, dtype=np.float32)\n",
    "    return features, labels\n",
    "def one_hot_to_categorical(Y):\n",
    "    result = []\n",
    "    for i in range(Y.shape[0]):\n",
    "        for j in range(Y.shape[1]):\n",
    "            if Y[i][j] == 1:\n",
    "                result.append(j)\n",
    "    return result"
   ]
  },
  {
   "cell_type": "code",
   "execution_count": 15,
   "metadata": {},
   "outputs": [],
   "source": [
    "# code for part 4 \n",
    "feature, labels = extract_from_batches(valid_set, valid_set.batch_size, valid_set.n)\n",
    "labels = one_hot_to_categorical(labels)\n",
    "nsamples, nx, ny, nz = feature.shape\n",
    "d2_train_dataset = feature.reshape((nsamples, nx * ny * nz))\n",
    "clf = ExtraTreesClassifier(n_estimators=1000, max_features=128, n_jobs=-1, random_state=SEED)\n",
    "clf.fit(d2_train_dataset, labels)\n",
    "importances = clf.feature_importances_"
   ]
  },
  {
   "cell_type": "code",
   "execution_count": 16,
   "metadata": {},
   "outputs": [
    {
     "data": {
      "image/png": "[encoded data removed]",
      "text/plain": [
       "<Figure size 288x288 with 1 Axes>"
      ]
     },
     "metadata": {
      "needs_background": "light"
     },
     "output_type": "display_data"
    }
   ],
   "source": [
    "importances = importances.reshape(DIM_IMG, DIM_IMG)\n",
    "# Plot pixel importances\n",
    "plt.matshow(importances, cmap=plt.cm.hot)\n",
    "plt.title(\"Pixel importances with forests of trees\")\n",
    "plt.show()"
   ]
  },
  {
   "cell_type": "markdown",
   "metadata": {},
   "source": [
    "To calculate the heatmap I used the ExtraTreesClassifier algorithm implemented in the sklearn library using 1000 estimators and max_features == 128.\n",
    "\n",
    "I made a reshape of the elements of the validation set, and I performed the classifier train. I extracted the feature importances and then I calculated the plot.\n",
    "\n",
    "The pixels in red are the most relevant features, thus considered by the ExtraTreesClassifier algorithm. \n",
    "As we can see the most relevant pixels are at the center of the image, where the differences between the legos are often concentrated."
   ]
  },
  {
   "cell_type": "markdown",
   "metadata": {},
   "source": [
    "# your comments:"
   ]
  },
  {
   "cell_type": "markdown",
   "metadata": {},
   "source": [
    "# Part 5 - Extra point\n",
    "- if from the report you printed in part 3.a the weighted avg F1 is greater tha 0.85 you get 1 point\n",
    "\n",
    "\n",
    "\n",
    "<img src=\"dexter.jpg\"/>"
   ]
  },
  {
   "cell_type": "code",
   "execution_count": 17,
   "metadata": {},
   "outputs": [
    {
     "name": "stdout",
     "output_type": "stream",
     "text": [
      "F1 weighted:  0.9994122228398009\n"
     ]
    }
   ],
   "source": [
    "print(\"F1 weighted: \" , f1_score(true_classes, predicted_classes, average='weighted'))\n"
   ]
  },
  {
   "cell_type": "code",
   "execution_count": null,
   "metadata": {},
   "outputs": [],
   "source": []
  }
 ],
 "metadata": {
  "kernelspec": {
   "display_name": "Python 3",
   "language": "python",
   "name": "python3"
  },
  "language_info": {
   "codemirror_mode": {
    "name": "ipython",
    "version": 3
   },
   "file_extension": ".py",
   "mimetype": "text/x-python",
   "name": "python",
   "nbconvert_exporter": "python",
   "pygments_lexer": "ipython3",
   "version": "3.6.8"
  }
 },
 "nbformat": 4,
 "nbformat_minor": 2
}
